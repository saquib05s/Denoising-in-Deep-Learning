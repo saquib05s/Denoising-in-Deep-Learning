{
  "nbformat": 4,
  "nbformat_minor": 0,
  "metadata": {
    "colab": {
      "name": "DNCnn.ipynb",
      "provenance": [],
      "collapsed_sections": []
    },
    "kernelspec": {
      "name": "python3",
      "display_name": "Python 3"
    },
    "language_info": {
      "name": "python"
    },
    "accelerator": "GPU"
  },
  "cells": [
    {
      "cell_type": "code",
      "execution_count": 1,
      "metadata": {
        "id": "TmENsEtiw7SH"
      },
      "outputs": [],
      "source": [
        "import numpy as np\n",
        "import pandas as pd\n",
        "import random\n",
        "import matplotlib.pyplot as plt\n",
        "\n",
        "import tensorflow as tf\n",
        "from tensorflow import keras\n",
        "from keras.models import *\n",
        "from keras import backend as K\n",
        "from keras.layers import Input, Flatten, Dense, Reshape, Conv2D, Conv2DTranspose, LeakyReLU, BatchNormalization, Activation, Lambda,Subtract"
      ]
    },
    {
      "cell_type": "code",
      "source": [
        "%tensorflow_version 2.x\n",
        "%matplotlib inline"
      ],
      "metadata": {
        "id": "U3UKdpW-zhwJ"
      },
      "execution_count": 2,
      "outputs": []
    },
    {
      "cell_type": "markdown",
      "source": [
        "## Loading in our Data"
      ],
      "metadata": {
        "id": "UKdspVwXz6b0"
      }
    },
    {
      "cell_type": "code",
      "source": [
        "#colab-related\n",
        "from google.colab import drive\n",
        "drive.mount(\"/content/gdrive\")"
      ],
      "metadata": {
        "colab": {
          "base_uri": "https://localhost:8080/"
        },
        "id": "cNRm9W6tz56h",
        "outputId": "db4101dc-a6df-4dfc-f946-e2813243abaf"
      },
      "execution_count": 3,
      "outputs": [
        {
          "output_type": "stream",
          "name": "stdout",
          "text": [
            "Mounted at /content/gdrive\n"
          ]
        }
      ]
    },
    {
      "cell_type": "code",
      "source": [
        "X_train = np.load('/content/gdrive/My Drive/613/X_train.npy', allow_pickle=True)/255\n",
        "noisy_X_train = np.load('/content/gdrive/My Drive/613/noisy_X_train.npy', allow_pickle=True)/255\n",
        "\n",
        "X_val = np.load('/content/gdrive/My Drive/613/X_val.npy', allow_pickle=True)/255\n",
        "noisy_X_val = np.load('/content/gdrive/My Drive/613/noisy_X_val.npy', allow_pickle=True)/255\n",
        "\n",
        "X_test = np.load('/content/gdrive/My Drive/613/X_test.npy', allow_pickle=True)/255\n",
        "noisy_X_test = np.load('/content/gdrive/My Drive/613/noisy_X_test.npy', allow_pickle=True)/255"
      ],
      "metadata": {
        "id": "9lYAx7Oczo6x"
      },
      "execution_count": 4,
      "outputs": []
    },
    {
      "cell_type": "markdown",
      "source": [
        "## Model"
      ],
      "metadata": {
        "id": "sYHzd4WzI8Oy"
      }
    },
    {
      "cell_type": "code",
      "source": [
        "inpt = Input(shape=(None,None,1))\n",
        "# 1st layer, Conv+relu\n",
        "x = Conv2D(filters=16, kernel_size=(3,3), strides=(1,1), padding='same')(inpt)\n",
        "x = Activation('relu')(x)\n",
        "# 15 layers, Conv+BN+relu\n",
        "for i in range(5):\n",
        "    x = Conv2D(filters=16, kernel_size=(3,3), strides=(1,1), padding='same')(x)\n",
        "    x = BatchNormalization()(x)\n",
        "    x = Activation('relu')(x)   \n",
        "# last layer, Conv\n",
        "x = Conv2D(filters=1, kernel_size=(3,3), strides=(1,1), padding='same')(x)\n",
        "x = Subtract()([inpt, x])   # input - noise\n",
        "model = Model(inputs=inpt, outputs=x)\n",
        "model.summary()"
      ],
      "metadata": {
        "colab": {
          "base_uri": "https://localhost:8080/"
        },
        "id": "Xz0HSyPx22J2",
        "outputId": "3d32a193-e98c-4eb0-98eb-373a33c37458"
      },
      "execution_count": 5,
      "outputs": [
        {
          "output_type": "stream",
          "name": "stdout",
          "text": [
            "Model: \"model\"\n",
            "__________________________________________________________________________________________________\n",
            " Layer (type)                   Output Shape         Param #     Connected to                     \n",
            "==================================================================================================\n",
            " input_1 (InputLayer)           [(None, None, None,  0           []                               \n",
            "                                 1)]                                                              \n",
            "                                                                                                  \n",
            " conv2d (Conv2D)                (None, None, None,   160         ['input_1[0][0]']                \n",
            "                                16)                                                               \n",
            "                                                                                                  \n",
            " activation (Activation)        (None, None, None,   0           ['conv2d[0][0]']                 \n",
            "                                16)                                                               \n",
            "                                                                                                  \n",
            " conv2d_1 (Conv2D)              (None, None, None,   2320        ['activation[0][0]']             \n",
            "                                16)                                                               \n",
            "                                                                                                  \n",
            " batch_normalization (BatchNorm  (None, None, None,   64         ['conv2d_1[0][0]']               \n",
            " alization)                     16)                                                               \n",
            "                                                                                                  \n",
            " activation_1 (Activation)      (None, None, None,   0           ['batch_normalization[0][0]']    \n",
            "                                16)                                                               \n",
            "                                                                                                  \n",
            " conv2d_2 (Conv2D)              (None, None, None,   2320        ['activation_1[0][0]']           \n",
            "                                16)                                                               \n",
            "                                                                                                  \n",
            " batch_normalization_1 (BatchNo  (None, None, None,   64         ['conv2d_2[0][0]']               \n",
            " rmalization)                   16)                                                               \n",
            "                                                                                                  \n",
            " activation_2 (Activation)      (None, None, None,   0           ['batch_normalization_1[0][0]']  \n",
            "                                16)                                                               \n",
            "                                                                                                  \n",
            " conv2d_3 (Conv2D)              (None, None, None,   2320        ['activation_2[0][0]']           \n",
            "                                16)                                                               \n",
            "                                                                                                  \n",
            " batch_normalization_2 (BatchNo  (None, None, None,   64         ['conv2d_3[0][0]']               \n",
            " rmalization)                   16)                                                               \n",
            "                                                                                                  \n",
            " activation_3 (Activation)      (None, None, None,   0           ['batch_normalization_2[0][0]']  \n",
            "                                16)                                                               \n",
            "                                                                                                  \n",
            " conv2d_4 (Conv2D)              (None, None, None,   2320        ['activation_3[0][0]']           \n",
            "                                16)                                                               \n",
            "                                                                                                  \n",
            " batch_normalization_3 (BatchNo  (None, None, None,   64         ['conv2d_4[0][0]']               \n",
            " rmalization)                   16)                                                               \n",
            "                                                                                                  \n",
            " activation_4 (Activation)      (None, None, None,   0           ['batch_normalization_3[0][0]']  \n",
            "                                16)                                                               \n",
            "                                                                                                  \n",
            " conv2d_5 (Conv2D)              (None, None, None,   2320        ['activation_4[0][0]']           \n",
            "                                16)                                                               \n",
            "                                                                                                  \n",
            " batch_normalization_4 (BatchNo  (None, None, None,   64         ['conv2d_5[0][0]']               \n",
            " rmalization)                   16)                                                               \n",
            "                                                                                                  \n",
            " activation_5 (Activation)      (None, None, None,   0           ['batch_normalization_4[0][0]']  \n",
            "                                16)                                                               \n",
            "                                                                                                  \n",
            " conv2d_6 (Conv2D)              (None, None, None,   145         ['activation_5[0][0]']           \n",
            "                                1)                                                                \n",
            "                                                                                                  \n",
            " subtract (Subtract)            (None, None, None,   0           ['input_1[0][0]',                \n",
            "                                1)                                'conv2d_6[0][0]']               \n",
            "                                                                                                  \n",
            "==================================================================================================\n",
            "Total params: 12,225\n",
            "Trainable params: 12,065\n",
            "Non-trainable params: 160\n",
            "__________________________________________________________________________________________________\n"
          ]
        }
      ]
    },
    {
      "cell_type": "markdown",
      "source": [
        "## Train"
      ],
      "metadata": {
        "id": "biwCTcSzU5Z4"
      }
    },
    {
      "cell_type": "code",
      "source": [
        "def ssim_loss(y_true, y_pred):\n",
        "  return tf.reduce_mean(tf.image.ssim(y_true, y_pred, 1.0, filter_size=4))"
      ],
      "metadata": {
        "id": "autg1oH6fu9O"
      },
      "execution_count": 29,
      "outputs": []
    },
    {
      "cell_type": "code",
      "source": [
        "from keras.callbacks import ModelCheckpoint\n",
        "model.compile(optimizer=\"adam\", loss=['mse'], metrics = ssim_loss)\n",
        "\n",
        "# use call back functions\n",
        "ckpt = ModelCheckpoint('/model_{epoch:02d}.h5', monitor='val_loss', \n",
        "                verbose=0, save_best_only=True)\n",
        "history = model.fit(noisy_X_train, X_train, epochs=30, batch_size=32, shuffle=True, validation_data=(noisy_X_val, X_val), callbacks=[ckpt])"
      ],
      "metadata": {
        "colab": {
          "base_uri": "https://localhost:8080/"
        },
        "id": "AbPS9SO1U9nq",
        "outputId": "c686980c-88a0-4ee4-d534-8d606a7bcd31"
      },
      "execution_count": 30,
      "outputs": [
        {
          "output_type": "stream",
          "name": "stdout",
          "text": [
            "Epoch 1/30\n",
            "1407/1407 [==============================] - 13s 8ms/step - loss: 0.0023 - ssim_loss: 0.9260 - val_loss: 0.0379 - val_ssim_loss: 0.5947\n",
            "Epoch 2/30\n",
            "1407/1407 [==============================] - 12s 8ms/step - loss: 0.0022 - ssim_loss: 0.9312 - val_loss: 0.0066 - val_ssim_loss: 0.8214\n",
            "Epoch 3/30\n",
            "1407/1407 [==============================] - 11s 8ms/step - loss: 0.0022 - ssim_loss: 0.9342 - val_loss: 0.0054 - val_ssim_loss: 0.8375\n",
            "Epoch 4/30\n",
            "1407/1407 [==============================] - 12s 8ms/step - loss: 0.0021 - ssim_loss: 0.9373 - val_loss: 0.0292 - val_ssim_loss: 0.6922\n",
            "Epoch 5/30\n",
            "1407/1407 [==============================] - 11s 8ms/step - loss: 0.0021 - ssim_loss: 0.9384 - val_loss: 0.0268 - val_ssim_loss: 0.6748\n",
            "Epoch 6/30\n",
            "1407/1407 [==============================] - 11s 8ms/step - loss: 0.0021 - ssim_loss: 0.9405 - val_loss: 0.0052 - val_ssim_loss: 0.8979\n",
            "Epoch 7/30\n",
            "1407/1407 [==============================] - 12s 8ms/step - loss: 0.0020 - ssim_loss: 0.9438 - val_loss: 0.0058 - val_ssim_loss: 0.8852\n",
            "Epoch 8/30\n",
            "1407/1407 [==============================] - 11s 8ms/step - loss: 0.0020 - ssim_loss: 0.9449 - val_loss: 0.0124 - val_ssim_loss: 0.7283\n",
            "Epoch 9/30\n",
            "1407/1407 [==============================] - 10s 7ms/step - loss: 0.0020 - ssim_loss: 0.9457 - val_loss: 0.0095 - val_ssim_loss: 0.8006\n",
            "Epoch 10/30\n",
            "1407/1407 [==============================] - 12s 8ms/step - loss: 0.0020 - ssim_loss: 0.9465 - val_loss: 0.0034 - val_ssim_loss: 0.8743\n",
            "Epoch 11/30\n",
            "1407/1407 [==============================] - 10s 7ms/step - loss: 0.0020 - ssim_loss: 0.9482 - val_loss: 0.0035 - val_ssim_loss: 0.8923\n",
            "Epoch 12/30\n",
            "1407/1407 [==============================] - 10s 7ms/step - loss: 0.0020 - ssim_loss: 0.9488 - val_loss: 0.0062 - val_ssim_loss: 0.8756\n",
            "Epoch 13/30\n",
            "1407/1407 [==============================] - 10s 7ms/step - loss: 0.0020 - ssim_loss: 0.9493 - val_loss: 0.0056 - val_ssim_loss: 0.7667\n",
            "Epoch 14/30\n",
            "1407/1407 [==============================] - 10s 7ms/step - loss: 0.0020 - ssim_loss: 0.9503 - val_loss: 0.0157 - val_ssim_loss: 0.8027\n",
            "Epoch 15/30\n",
            "1407/1407 [==============================] - 10s 7ms/step - loss: 0.0019 - ssim_loss: 0.9513 - val_loss: 0.0216 - val_ssim_loss: 0.7257\n",
            "Epoch 16/30\n",
            "1407/1407 [==============================] - 11s 8ms/step - loss: 0.0019 - ssim_loss: 0.9519 - val_loss: 0.0088 - val_ssim_loss: 0.8013\n",
            "Epoch 17/30\n",
            "1407/1407 [==============================] - 10s 7ms/step - loss: 0.0019 - ssim_loss: 0.9518 - val_loss: 0.0035 - val_ssim_loss: 0.8304\n",
            "Epoch 18/30\n",
            "1407/1407 [==============================] - 11s 8ms/step - loss: 0.0019 - ssim_loss: 0.9519 - val_loss: 0.0148 - val_ssim_loss: 0.7709\n",
            "Epoch 19/30\n",
            "1407/1407 [==============================] - 10s 7ms/step - loss: 0.0019 - ssim_loss: 0.9532 - val_loss: 0.0082 - val_ssim_loss: 0.7947\n",
            "Epoch 20/30\n",
            "1407/1407 [==============================] - 10s 7ms/step - loss: 0.0019 - ssim_loss: 0.9539 - val_loss: 0.0079 - val_ssim_loss: 0.8935\n",
            "Epoch 21/30\n",
            "1407/1407 [==============================] - 11s 8ms/step - loss: 0.0019 - ssim_loss: 0.9539 - val_loss: 0.0099 - val_ssim_loss: 0.8567\n",
            "Epoch 22/30\n",
            "1407/1407 [==============================] - 10s 7ms/step - loss: 0.0019 - ssim_loss: 0.9542 - val_loss: 0.0082 - val_ssim_loss: 0.7863\n",
            "Epoch 23/30\n",
            "1407/1407 [==============================] - 11s 8ms/step - loss: 0.0019 - ssim_loss: 0.9545 - val_loss: 0.0066 - val_ssim_loss: 0.8878\n",
            "Epoch 24/30\n",
            "1407/1407 [==============================] - 11s 8ms/step - loss: 0.0019 - ssim_loss: 0.9552 - val_loss: 0.0054 - val_ssim_loss: 0.8359\n",
            "Epoch 25/30\n",
            "1407/1407 [==============================] - 10s 7ms/step - loss: 0.0019 - ssim_loss: 0.9544 - val_loss: 0.0100 - val_ssim_loss: 0.7501\n",
            "Epoch 26/30\n",
            "1407/1407 [==============================] - 10s 7ms/step - loss: 0.0019 - ssim_loss: 0.9554 - val_loss: 0.0028 - val_ssim_loss: 0.9202\n",
            "Epoch 27/30\n",
            "1407/1407 [==============================] - 10s 7ms/step - loss: 0.0019 - ssim_loss: 0.9562 - val_loss: 0.0140 - val_ssim_loss: 0.7412\n",
            "Epoch 28/30\n",
            "1407/1407 [==============================] - 10s 7ms/step - loss: 0.0019 - ssim_loss: 0.9555 - val_loss: 0.0038 - val_ssim_loss: 0.8847\n",
            "Epoch 29/30\n",
            "1407/1407 [==============================] - 10s 7ms/step - loss: 0.0019 - ssim_loss: 0.9560 - val_loss: 0.0105 - val_ssim_loss: 0.7723\n",
            "Epoch 30/30\n",
            "1407/1407 [==============================] - 10s 7ms/step - loss: 0.0019 - ssim_loss: 0.9561 - val_loss: 0.0069 - val_ssim_loss: 0.8959\n"
          ]
        }
      ]
    },
    {
      "cell_type": "code",
      "source": [
        "model.evaluate(noisy_X_test, X_test, batch_size = 32)"
      ],
      "metadata": {
        "colab": {
          "base_uri": "https://localhost:8080/"
        },
        "id": "7DN56Edagf3y",
        "outputId": "dc578c14-5965-4c2c-8ecb-ad23c06b6094"
      },
      "execution_count": 31,
      "outputs": [
        {
          "output_type": "stream",
          "name": "stdout",
          "text": [
            "313/313 [==============================] - 1s 4ms/step - loss: 0.0070 - ssim_loss: 0.8967\n"
          ]
        },
        {
          "output_type": "execute_result",
          "data": {
            "text/plain": [
              "[0.00696578761562705, 0.8966607451438904]"
            ]
          },
          "metadata": {},
          "execution_count": 31
        }
      ]
    },
    {
      "cell_type": "code",
      "source": [
        "y_pred = model.predict(noisy_X_test)"
      ],
      "metadata": {
        "id": "0cn8Fq8crxW8"
      },
      "execution_count": 32,
      "outputs": []
    },
    {
      "cell_type": "code",
      "source": [
        "from skimage.metrics import structural_similarity as ssim\n",
        "\n",
        "t = 0\n",
        "for i in range(10000):\n",
        "  t += ssim(X_test[i,:,:], y_pred[i,:,:,:].reshape(28,28));\n",
        "t = t/10000\n",
        "t"
      ],
      "metadata": {
        "colab": {
          "base_uri": "https://localhost:8080/"
        },
        "id": "A6k4bd3FshYu",
        "outputId": "82d5e3a9-7e79-459b-e229-2c959e0b90a4"
      },
      "execution_count": 33,
      "outputs": [
        {
          "output_type": "stream",
          "name": "stderr",
          "text": [
            "/usr/local/lib/python3.7/dist-packages/ipykernel_launcher.py:5: UserWarning: Inputs have mismatched dtype.  Setting data_range based on im1.dtype.\n",
            "  \"\"\"\n"
          ]
        },
        {
          "output_type": "execute_result",
          "data": {
            "text/plain": [
              "0.8889254960595064"
            ]
          },
          "metadata": {},
          "execution_count": 33
        }
      ]
    },
    {
      "cell_type": "code",
      "source": [
        "X_test.reshape((-1, 28, 28, 1)).shape"
      ],
      "metadata": {
        "colab": {
          "base_uri": "https://localhost:8080/"
        },
        "id": "HUTkoqRAtB9w",
        "outputId": "bc09e770-f03d-4797-f5e2-6b0175e445d9"
      },
      "execution_count": 34,
      "outputs": [
        {
          "output_type": "execute_result",
          "data": {
            "text/plain": [
              "(10000, 28, 28, 1)"
            ]
          },
          "metadata": {},
          "execution_count": 34
        }
      ]
    },
    {
      "cell_type": "code",
      "source": [
        "skimage.metrics.peak_signal_noise_ratio(X_test.reshape((-1, 28, 28, 1)), y_pred, data_range=1)"
      ],
      "metadata": {
        "colab": {
          "base_uri": "https://localhost:8080/"
        },
        "id": "QrES_BcgVRtI",
        "outputId": "4570c02a-9e3c-471e-8aef-fc525aaaf691"
      },
      "execution_count": 35,
      "outputs": [
        {
          "output_type": "execute_result",
          "data": {
            "text/plain": [
              "21.57029815836356"
            ]
          },
          "metadata": {},
          "execution_count": 35
        }
      ]
    }
  ]
}