{
  "nbformat": 4,
  "nbformat_minor": 0,
  "metadata": {
    "colab": {
      "name": "denoising_ae",
      "provenance": [],
      "collapsed_sections": []
    },
    "kernelspec": {
      "name": "python3",
      "display_name": "Python 3"
    },
    "language_info": {
      "name": "python"
    },
    "accelerator": "GPU"
  },
  "cells": [
    {
      "cell_type": "markdown",
      "source": [
        "# Denoising Autoencoder\n",
        "First, we import in all the necessary libraries"
      ],
      "metadata": {
        "id": "kgrLXOXbtcn3"
      }
    },
    {
      "cell_type": "code",
      "execution_count": 1,
      "metadata": {
        "id": "fYUHZLVKr_bW"
      },
      "outputs": [],
      "source": [
        "import numpy as np\n",
        "import pandas as pd\n",
        "import random\n",
        "import matplotlib.pyplot as plt\n",
        "\n",
        "import tensorflow as tf\n",
        "from tensorflow import keras\n",
        "from keras import backend as K\n",
        "from keras.layers import Input, Flatten, Dense, Reshape, Conv2D, Conv2DTranspose, LeakyReLU, BatchNormalization, Activation"
      ]
    },
    {
      "cell_type": "code",
      "source": [
        "%tensorflow_version 2.x\n",
        "%matplotlib inline"
      ],
      "metadata": {
        "id": "KKTdQZ0Ru9Fd"
      },
      "execution_count": 2,
      "outputs": []
    },
    {
      "cell_type": "code",
      "source": [
        "device_name = tf.test.gpu_device_name()\n",
        "if device_name != '/device:GPU:0':\n",
        "  print('GPU device not found')\n",
        "else:\n",
        "  print('Found GPU at: {}'.format(device_name))"
      ],
      "metadata": {
        "colab": {
          "base_uri": "https://localhost:8080/"
        },
        "id": "qUl2asmwvDVO",
        "outputId": "8e927a7f-1338-4667-cecb-4df853d0e5af"
      },
      "execution_count": 3,
      "outputs": [
        {
          "output_type": "stream",
          "name": "stdout",
          "text": [
            "Found GPU at: /device:GPU:0\n"
          ]
        }
      ]
    },
    {
      "cell_type": "markdown",
      "source": [
        "## Loading in our Data\n",
        "We load in the data from our Drive and process it to according to the input expected by Keras models"
      ],
      "metadata": {
        "id": "YNhuFCC2vBRM"
      }
    },
    {
      "cell_type": "code",
      "source": [
        "#colab-related\n",
        "from google.colab import drive\n",
        "drive.mount(\"/content/gdrive\")"
      ],
      "metadata": {
        "colab": {
          "base_uri": "https://localhost:8080/"
        },
        "id": "op7WorfIxsrC",
        "outputId": "af19725a-cbbc-439d-8922-82394e2810c7"
      },
      "execution_count": 4,
      "outputs": [
        {
          "output_type": "stream",
          "name": "stdout",
          "text": [
            "Mounted at /content/gdrive\n"
          ]
        }
      ]
    },
    {
      "cell_type": "code",
      "source": [
        "X_train = np.load('/content/gdrive/My Drive/613_denoising/X_train.npy', allow_pickle=True)\n",
        "noisy_X_train = np.load('/content/gdrive/My Drive/613_denoising/noisy_X_train.npy', allow_pickle=True)\n",
        "\n",
        "X_val = np.load('/content/gdrive/My Drive/613_denoising/X_val.npy', allow_pickle=True)\n",
        "noisy_X_val = np.load('/content/gdrive/My Drive/613_denoising/noisy_X_val.npy', allow_pickle=True)\n",
        "\n",
        "X_test = np.load('/content/gdrive/My Drive/613_denoising/X_test.npy', allow_pickle=True)\n",
        "noisy_X_test = np.load('/content/gdrive/My Drive/613_denoising/noisy_X_test.npy', allow_pickle=True)"
      ],
      "metadata": {
        "id": "pHkOPweYxuk4"
      },
      "execution_count": 5,
      "outputs": []
    },
    {
      "cell_type": "code",
      "source": [
        "X_train = np.reshape( X_train/255, (-1,28,28,1))\n",
        "noisy_X_train = np.reshape( noisy_X_train/255, (-1,28,28,1))\n",
        "\n",
        "X_val = np.reshape( X_val/255, (-1,28,28,1))\n",
        "noisy_X_val = np.reshape( noisy_X_val/255, (-1,28,28,1))\n",
        "\n",
        "X_test = np.reshape( X_test/255, (-1,28,28,1))\n",
        "noisy_X_test = np.reshape( noisy_X_test/255, (-1,28,28,1))"
      ],
      "metadata": {
        "id": "Sm2wPpLi0XiA"
      },
      "execution_count": 6,
      "outputs": []
    },
    {
      "cell_type": "code",
      "source": [
        "print(X_train.shape, '\\t', noisy_X_train.shape)\n",
        "print(X_val.shape, '\\t', noisy_X_val.shape)\n",
        "print(X_test.shape, '\\t', noisy_X_test.shape)"
      ],
      "metadata": {
        "colab": {
          "base_uri": "https://localhost:8080/"
        },
        "id": "vDvdmjVk0HXw",
        "outputId": "24734f34-14c4-4116-bb69-639bbbaddc44"
      },
      "execution_count": 7,
      "outputs": [
        {
          "output_type": "stream",
          "name": "stdout",
          "text": [
            "(45000, 28, 28, 1) \t (45000, 28, 28, 1)\n",
            "(15000, 28, 28, 1) \t (15000, 28, 28, 1)\n",
            "(10000, 28, 28, 1) \t (10000, 28, 28, 1)\n"
          ]
        }
      ]
    },
    {
      "cell_type": "markdown",
      "source": [
        "## Model Architecture"
      ],
      "metadata": {
        "id": "1_nVjKhB0xAP"
      }
    },
    {
      "cell_type": "code",
      "source": [
        "input = Input(shape=(28, 28, 1))\n",
        "\n",
        "# Encoder\n",
        "x = Conv2D(128, (3, 3), strides=2, padding=\"same\")(input)\n",
        "x = LeakyReLU(alpha=0.2)(x)\n",
        "x = BatchNormalization()(x)\n",
        "x = Conv2D(64, (3, 3), strides=2, padding=\"same\")(x)\n",
        "x = LeakyReLU(alpha=0.2)(x)\n",
        "x = BatchNormalization()(x)\n",
        "\n",
        "# Latent space\n",
        "op_size = K.int_shape(x) \n",
        "x = Flatten()(x)\n",
        "latent = Dense(64)(x)\n",
        "\n",
        "x = Dense(np.prod(op_size[1:]))(latent)\n",
        "x = Reshape(op_size[1:])(x)\n",
        "\n",
        "# Decoder\n",
        "x = Conv2DTranspose(64, (3, 3), strides=2, padding=\"same\")(x)\n",
        "x = LeakyReLU(alpha=0.2)(x)\n",
        "x = BatchNormalization()(x)\n",
        "x = Conv2DTranspose(128, (3, 3), strides=2, padding=\"same\")(x)\n",
        "x = LeakyReLU(alpha=0.2)(x)\n",
        "x = BatchNormalization()(x)\n",
        "x = Conv2DTranspose(1, (3, 3), padding=\"same\")(x)\n",
        "output = Activation(\"sigmoid\")(x)\n",
        "\n",
        "# Autoencoder\n",
        "autoencoder = keras.Model(input, x)\n",
        "autoencoder.summary()"
      ],
      "metadata": {
        "colab": {
          "base_uri": "https://localhost:8080/"
        },
        "id": "dyHGPARp0wkW",
        "outputId": "f309e36d-13b7-4c87-d4c8-3349a5953921"
      },
      "execution_count": 59,
      "outputs": [
        {
          "output_type": "stream",
          "name": "stdout",
          "text": [
            "Model: \"model_12\"\n",
            "_________________________________________________________________\n",
            " Layer (type)                Output Shape              Param #   \n",
            "=================================================================\n",
            " input_13 (InputLayer)       [(None, 28, 28, 1)]       0         \n",
            "                                                                 \n",
            " conv2d_35 (Conv2D)          (None, 14, 14, 128)       1280      \n",
            "                                                                 \n",
            " leaky_re_lu_70 (LeakyReLU)  (None, 14, 14, 128)       0         \n",
            "                                                                 \n",
            " batch_normalization_70 (Bat  (None, 14, 14, 128)      512       \n",
            " chNormalization)                                                \n",
            "                                                                 \n",
            " conv2d_36 (Conv2D)          (None, 7, 7, 64)          73792     \n",
            "                                                                 \n",
            " leaky_re_lu_71 (LeakyReLU)  (None, 7, 7, 64)          0         \n",
            "                                                                 \n",
            " batch_normalization_71 (Bat  (None, 7, 7, 64)         256       \n",
            " chNormalization)                                                \n",
            "                                                                 \n",
            " flatten_12 (Flatten)        (None, 3136)              0         \n",
            "                                                                 \n",
            " dense_24 (Dense)            (None, 64)                200768    \n",
            "                                                                 \n",
            " dense_25 (Dense)            (None, 3136)              203840    \n",
            "                                                                 \n",
            " reshape_12 (Reshape)        (None, 7, 7, 64)          0         \n",
            "                                                                 \n",
            " conv2d_transpose_47 (Conv2D  (None, 14, 14, 64)       36928     \n",
            " Transpose)                                                      \n",
            "                                                                 \n",
            " leaky_re_lu_72 (LeakyReLU)  (None, 14, 14, 64)        0         \n",
            "                                                                 \n",
            " batch_normalization_72 (Bat  (None, 14, 14, 64)       256       \n",
            " chNormalization)                                                \n",
            "                                                                 \n",
            " conv2d_transpose_48 (Conv2D  (None, 28, 28, 128)      73856     \n",
            " Transpose)                                                      \n",
            "                                                                 \n",
            " leaky_re_lu_73 (LeakyReLU)  (None, 28, 28, 128)       0         \n",
            "                                                                 \n",
            " batch_normalization_73 (Bat  (None, 28, 28, 128)      512       \n",
            " chNormalization)                                                \n",
            "                                                                 \n",
            " conv2d_transpose_49 (Conv2D  (None, 28, 28, 1)        1153      \n",
            " Transpose)                                                      \n",
            "                                                                 \n",
            "=================================================================\n",
            "Total params: 593,153\n",
            "Trainable params: 592,385\n",
            "Non-trainable params: 768\n",
            "_________________________________________________________________\n"
          ]
        }
      ]
    },
    {
      "cell_type": "markdown",
      "source": [
        "## Model Training"
      ],
      "metadata": {
        "id": "FW8yzL0V1B77"
      }
    },
    {
      "cell_type": "code",
      "source": [
        "def ssim_loss(y_true, y_pred):\n",
        "  return tf.reduce_mean(tf.image.ssim(y_true, y_pred, 1.0))"
      ],
      "metadata": {
        "id": "fxSJ-fo5bA4I"
      },
      "execution_count": 60,
      "outputs": []
    },
    {
      "cell_type": "code",
      "source": [
        "checkpoint = keras.callbacks.ModelCheckpoint('model_ae.h5', save_best_only=True)\n",
        "earlystop = keras.callbacks.EarlyStopping(patience=5, restore_best_weights=True, monitor='val_ssim_loss')\n",
        "\n",
        "opt = keras.optimizers.Adam()\n",
        "autoencoder.compile(optimizer=opt, loss=\"mean_squared_error\", metrics = [ssim_loss])"
      ],
      "metadata": {
        "id": "wkIkI_oz1BbY"
      },
      "execution_count": 61,
      "outputs": []
    },
    {
      "cell_type": "code",
      "source": [
        "history = autoencoder.fit(noisy_X_train, X_train, epochs=10, batch_size=32, shuffle=True, validation_data=(noisy_X_val, X_val), callbacks=[checkpoint, earlystop])"
      ],
      "metadata": {
        "colab": {
          "base_uri": "https://localhost:8080/"
        },
        "id": "JDyq6N6_1Ef_",
        "outputId": "bbd3edf4-bfd1-46c4-d6c2-c157a42a8471"
      },
      "execution_count": 62,
      "outputs": [
        {
          "output_type": "stream",
          "name": "stdout",
          "text": [
            "Epoch 1/10\n",
            "1407/1407 [==============================] - 15s 10ms/step - loss: 0.0207 - ssim_loss: 0.5535 - val_loss: 0.0111 - val_ssim_loss: 0.6654\n",
            "Epoch 2/10\n",
            "1407/1407 [==============================] - 14s 10ms/step - loss: 0.0106 - ssim_loss: 0.6718 - val_loss: 0.0202 - val_ssim_loss: 0.6892\n",
            "Epoch 3/10\n",
            "1407/1407 [==============================] - 13s 10ms/step - loss: 0.0093 - ssim_loss: 0.7105 - val_loss: 0.0129 - val_ssim_loss: 0.6945\n",
            "Epoch 4/10\n",
            "1407/1407 [==============================] - 14s 10ms/step - loss: 0.0086 - ssim_loss: 0.7264 - val_loss: 0.0110 - val_ssim_loss: 0.7271\n",
            "Epoch 5/10\n",
            "1407/1407 [==============================] - 14s 10ms/step - loss: 0.0081 - ssim_loss: 0.7370 - val_loss: 0.0085 - val_ssim_loss: 0.7354\n",
            "Epoch 6/10\n",
            "1407/1407 [==============================] - 14s 10ms/step - loss: 0.0078 - ssim_loss: 0.7430 - val_loss: 0.0148 - val_ssim_loss: 0.6685\n"
          ]
        }
      ]
    },
    {
      "cell_type": "markdown",
      "source": [
        "## Model Evaluation"
      ],
      "metadata": {
        "id": "-ME4KLjF68qk"
      }
    },
    {
      "cell_type": "code",
      "source": [
        "autoencoder.evaluate(noisy_X_test, X_test, batch_size=32)"
      ],
      "metadata": {
        "colab": {
          "base_uri": "https://localhost:8080/"
        },
        "id": "Lvz23qSt68QQ",
        "outputId": "85c7a0cd-8c4c-4e9c-a196-5eda94b3f57e"
      },
      "execution_count": 63,
      "outputs": [
        {
          "output_type": "stream",
          "name": "stdout",
          "text": [
            "313/313 [==============================] - 2s 6ms/step - loss: 0.0112 - ssim_loss: 0.6632\n"
          ]
        },
        {
          "output_type": "execute_result",
          "data": {
            "text/plain": [
              "[0.01117816660553217, 0.6631856560707092]"
            ]
          },
          "metadata": {},
          "execution_count": 63
        }
      ]
    },
    {
      "cell_type": "code",
      "source": [
        "np.mean(tf.image.psnr(X_pred, X_test, max_val=1))"
      ],
      "metadata": {
        "colab": {
          "base_uri": "https://localhost:8080/"
        },
        "id": "bG40Cvg7VjEf",
        "outputId": "618c8063-c43f-46ab-b94f-92b3c1b6a3d8"
      },
      "execution_count": 69,
      "outputs": [
        {
          "output_type": "execute_result",
          "data": {
            "text/plain": [
              "20.021397"
            ]
          },
          "metadata": {},
          "execution_count": 69
        }
      ]
    },
    {
      "cell_type": "code",
      "source": [
        "X_pred = autoencoder.predict(noisy_X_test)"
      ],
      "metadata": {
        "id": "8q7pcaJtgVR3"
      },
      "execution_count": 64,
      "outputs": []
    },
    {
      "cell_type": "code",
      "source": [
        "choice = 500\n",
        "\n",
        "fig, ax = plt.subplots(2,3, figsize=(14,7))\n",
        "\n",
        "ax[0][0].imshow(X_test[choice,:,:,:].reshape(28,28), cmap='gray')\n",
        "ax[0][1].imshow(noisy_X_test[choice,:,:,:].reshape(28,28), cmap='gray')\n",
        "ax[0][2].imshow(X_pred[choice,:,:,:].reshape(28,28), cmap='gray')\n",
        "\n",
        "ax[1][0].imshow(X_test[choice*2,:,:,:].reshape(28,28), cmap='gray')\n",
        "ax[1][1].imshow(noisy_X_test[choice*2,:,:,:].reshape(28,28), cmap='gray')\n",
        "ax[1][2].imshow(X_pred[choice*2,:,:,:].reshape(28,28), cmap='gray')"
      ],
      "metadata": {
        "colab": {
          "base_uri": "https://localhost:8080/",
          "height": 447
        },
        "id": "Uu0MXHE5fwxb",
        "outputId": "67728af9-39a0-4d47-e4d0-88f6acf7fc0a"
      },
      "execution_count": 70,
      "outputs": [
        {
          "output_type": "execute_result",
          "data": {
            "text/plain": [
              "<matplotlib.image.AxesImage at 0x7fa7220d13d0>"
            ]
          },
          "metadata": {},
          "execution_count": 70
        },
        {
          "output_type": "display_data",
          "data": {
            "text/plain": [
              "<Figure size 1008x504 with 6 Axes>"
            ],
            "image/png": "[encoded data removed]"
          },
          "metadata": {
            "needs_background": "light"
          }
        }
      ]
    },
    {
      "cell_type": "markdown",
      "source": [
        "As seen above, the model does remove most of the noise but a slight blur is present which causes loss of minute information like the pattern on the tshirts."
      ],
      "metadata": {
        "id": "VFrZOmN8ZI-R"
      }
    }
  ]
}